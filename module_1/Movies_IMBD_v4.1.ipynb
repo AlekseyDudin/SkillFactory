{
 "cells": [
  {
   "cell_type": "code",
   "execution_count": 289,
   "metadata": {
    "_cell_guid": "b1076dfc-b9ad-4769-8c92-a6c4dae69d19",
    "_uuid": "8f2839f25d086af736a60e9eeb907d3b93b6e0e5",
    "colab": {},
    "colab_type": "code",
    "id": "U2D2gTdJVp90"
   },
   "outputs": [],
   "source": [
    "import numpy as np\n",
    "import pandas as pd\n",
    "import seaborn as sns\n",
    "import matplotlib.pyplot as plt\n",
    "from itertools import combinations\n",
    "from collections import Counter"
   ]
  },
  {
   "cell_type": "code",
   "execution_count": 290,
   "metadata": {
    "_cell_guid": "79c7e3d0-c299-4dcb-8224-4455121ee9b0",
    "_uuid": "d629ff2d2480ee46fbb7e2d37f6b5fab8052498a",
    "colab": {},
    "colab_type": "code",
    "id": "oyGfxL3eVp9-"
   },
   "outputs": [
    {
     "data": {
      "text/html": [
       "<div>\n",
       "<style scoped>\n",
       "    .dataframe tbody tr th:only-of-type {\n",
       "        vertical-align: middle;\n",
       "    }\n",
       "\n",
       "    .dataframe tbody tr th {\n",
       "        vertical-align: top;\n",
       "    }\n",
       "\n",
       "    .dataframe thead th {\n",
       "        text-align: right;\n",
       "    }\n",
       "</style>\n",
       "<table border=\"1\" class=\"dataframe\">\n",
       "  <thead>\n",
       "    <tr style=\"text-align: right;\">\n",
       "      <th></th>\n",
       "      <th>imdb_id</th>\n",
       "      <th>budget</th>\n",
       "      <th>revenue</th>\n",
       "      <th>original_title</th>\n",
       "      <th>cast</th>\n",
       "      <th>director</th>\n",
       "      <th>tagline</th>\n",
       "      <th>overview</th>\n",
       "      <th>runtime</th>\n",
       "      <th>genres</th>\n",
       "      <th>production_companies</th>\n",
       "      <th>release_date</th>\n",
       "      <th>vote_average</th>\n",
       "      <th>release_year</th>\n",
       "    </tr>\n",
       "  </thead>\n",
       "  <tbody>\n",
       "    <tr>\n",
       "      <th>767</th>\n",
       "      <td>tt1161864</td>\n",
       "      <td>37000000</td>\n",
       "      <td>96047633</td>\n",
       "      <td>The Rite</td>\n",
       "      <td>Anthony Hopkins|Colin O'Donoghue|Alice Braga|T...</td>\n",
       "      <td>Mikael HÃ¥fstrÃ¶m</td>\n",
       "      <td>You can only defeat it when you believe.</td>\n",
       "      <td>Seminary student Michael Kovak (Colin O'Donogh...</td>\n",
       "      <td>114</td>\n",
       "      <td>Drama|Thriller|Horror</td>\n",
       "      <td>New Line Cinema|Contrafilm|Mid Atlantic Films|...</td>\n",
       "      <td>2011-01-28</td>\n",
       "      <td>5.7</td>\n",
       "      <td>2011</td>\n",
       "    </tr>\n",
       "    <tr>\n",
       "      <th>1610</th>\n",
       "      <td>tt0363547</td>\n",
       "      <td>28000000</td>\n",
       "      <td>102356381</td>\n",
       "      <td>Dawn of the Dead</td>\n",
       "      <td>Sarah Polley|Ving Rhames|Jake Weber|Mekhi Phif...</td>\n",
       "      <td>Zack Snyder</td>\n",
       "      <td>When the undead rise, civilization will fall.</td>\n",
       "      <td>A group of surviving people take refuge in a s...</td>\n",
       "      <td>101</td>\n",
       "      <td>Fantasy|Horror|Action</td>\n",
       "      <td>New Amsterdam Entertainment|Strike Entertainme...</td>\n",
       "      <td>2004-03-19</td>\n",
       "      <td>6.7</td>\n",
       "      <td>2004</td>\n",
       "    </tr>\n",
       "    <tr>\n",
       "      <th>1656</th>\n",
       "      <td>tt0329691</td>\n",
       "      <td>40000000</td>\n",
       "      <td>46546197</td>\n",
       "      <td>Torque</td>\n",
       "      <td>Martin Henderson|Ice Cube|Monet Mazur|Adam Sco...</td>\n",
       "      <td>Joseph Kahn</td>\n",
       "      <td>Circuit of Fire</td>\n",
       "      <td>Biker Cary Ford is framed by an old rival and ...</td>\n",
       "      <td>84</td>\n",
       "      <td>Action</td>\n",
       "      <td>Village Roadshow Pictures|Original Film|Warner...</td>\n",
       "      <td>2004-01-16</td>\n",
       "      <td>4.8</td>\n",
       "      <td>2004</td>\n",
       "    </tr>\n",
       "    <tr>\n",
       "      <th>1150</th>\n",
       "      <td>tt0304711</td>\n",
       "      <td>35000000</td>\n",
       "      <td>11560806</td>\n",
       "      <td>The Order</td>\n",
       "      <td>Heath Ledger|Shannyn Sossamon|Benno FÃ¼rmann|M...</td>\n",
       "      <td>Brian Helgeland</td>\n",
       "      <td>Every soul has its price.</td>\n",
       "      <td>For centuries, a secret Order of priests has e...</td>\n",
       "      <td>102</td>\n",
       "      <td>Drama|Fantasy|Horror|Mystery|Romance</td>\n",
       "      <td>Twentieth Century Fox Film Corporation|N1 Euro...</td>\n",
       "      <td>2003-09-05</td>\n",
       "      <td>4.8</td>\n",
       "      <td>2003</td>\n",
       "    </tr>\n",
       "    <tr>\n",
       "      <th>272</th>\n",
       "      <td>tt0362478</td>\n",
       "      <td>30000000</td>\n",
       "      <td>33333531</td>\n",
       "      <td>The Box</td>\n",
       "      <td>Cameron Diaz|James Marsden|Frank Langella|Mich...</td>\n",
       "      <td>Richard Kelly</td>\n",
       "      <td>All you have to do is push the button.</td>\n",
       "      <td>Norma and Arthur Lewis, a suburban couple with...</td>\n",
       "      <td>115</td>\n",
       "      <td>Thriller|Science Fiction</td>\n",
       "      <td>Media Rights Capital|Lin Pictures|Warner Bros....</td>\n",
       "      <td>2009-09-17</td>\n",
       "      <td>5.3</td>\n",
       "      <td>2009</td>\n",
       "    </tr>\n",
       "  </tbody>\n",
       "</table>\n",
       "</div>"
      ],
      "text/plain": [
       "        imdb_id    budget    revenue    original_title  \\\n",
       "767   tt1161864  37000000   96047633          The Rite   \n",
       "1610  tt0363547  28000000  102356381  Dawn of the Dead   \n",
       "1656  tt0329691  40000000   46546197            Torque   \n",
       "1150  tt0304711  35000000   11560806         The Order   \n",
       "272   tt0362478  30000000   33333531           The Box   \n",
       "\n",
       "                                                   cast           director  \\\n",
       "767   Anthony Hopkins|Colin O'Donoghue|Alice Braga|T...  Mikael HÃ¥fstrÃ¶m   \n",
       "1610  Sarah Polley|Ving Rhames|Jake Weber|Mekhi Phif...        Zack Snyder   \n",
       "1656  Martin Henderson|Ice Cube|Monet Mazur|Adam Sco...        Joseph Kahn   \n",
       "1150  Heath Ledger|Shannyn Sossamon|Benno FÃ¼rmann|M...    Brian Helgeland   \n",
       "272   Cameron Diaz|James Marsden|Frank Langella|Mich...      Richard Kelly   \n",
       "\n",
       "                                            tagline  \\\n",
       "767        You can only defeat it when you believe.   \n",
       "1610  When the undead rise, civilization will fall.   \n",
       "1656                                Circuit of Fire   \n",
       "1150                      Every soul has its price.   \n",
       "272          All you have to do is push the button.   \n",
       "\n",
       "                                               overview  runtime  \\\n",
       "767   Seminary student Michael Kovak (Colin O'Donogh...      114   \n",
       "1610  A group of surviving people take refuge in a s...      101   \n",
       "1656  Biker Cary Ford is framed by an old rival and ...       84   \n",
       "1150  For centuries, a secret Order of priests has e...      102   \n",
       "272   Norma and Arthur Lewis, a suburban couple with...      115   \n",
       "\n",
       "                                    genres  \\\n",
       "767                  Drama|Thriller|Horror   \n",
       "1610                 Fantasy|Horror|Action   \n",
       "1656                                Action   \n",
       "1150  Drama|Fantasy|Horror|Mystery|Romance   \n",
       "272               Thriller|Science Fiction   \n",
       "\n",
       "                                   production_companies release_date  \\\n",
       "767   New Line Cinema|Contrafilm|Mid Atlantic Films|...   2011-01-28   \n",
       "1610  New Amsterdam Entertainment|Strike Entertainme...   2004-03-19   \n",
       "1656  Village Roadshow Pictures|Original Film|Warner...   2004-01-16   \n",
       "1150  Twentieth Century Fox Film Corporation|N1 Euro...   2003-09-05   \n",
       "272   Media Rights Capital|Lin Pictures|Warner Bros....   2009-09-17   \n",
       "\n",
       "      vote_average  release_year  \n",
       "767            5.7          2011  \n",
       "1610           6.7          2004  \n",
       "1656           4.8          2004  \n",
       "1150           4.8          2003  \n",
       "272            5.3          2009  "
      ]
     },
     "execution_count": 290,
     "metadata": {},
     "output_type": "execute_result"
    }
   ],
   "source": [
    "data = pd.read_csv('movie_bd_v5.csv', parse_dates = ['release_date'])\n",
    "data.sample(5)"
   ]
  },
  {
   "cell_type": "code",
   "execution_count": 291,
   "metadata": {},
   "outputs": [
    {
     "name": "stdout",
     "output_type": "stream",
     "text": [
      "<class 'pandas.core.frame.DataFrame'>\n",
      "RangeIndex: 1889 entries, 0 to 1888\n",
      "Data columns (total 14 columns):\n",
      " #   Column                Non-Null Count  Dtype         \n",
      "---  ------                --------------  -----         \n",
      " 0   imdb_id               1889 non-null   object        \n",
      " 1   budget                1889 non-null   int64         \n",
      " 2   revenue               1889 non-null   int64         \n",
      " 3   original_title        1889 non-null   object        \n",
      " 4   cast                  1889 non-null   object        \n",
      " 5   director              1889 non-null   object        \n",
      " 6   tagline               1889 non-null   object        \n",
      " 7   overview              1889 non-null   object        \n",
      " 8   runtime               1889 non-null   int64         \n",
      " 9   genres                1889 non-null   object        \n",
      " 10  production_companies  1889 non-null   object        \n",
      " 11  release_date          1889 non-null   datetime64[ns]\n",
      " 12  vote_average          1889 non-null   float64       \n",
      " 13  release_year          1889 non-null   int64         \n",
      "dtypes: datetime64[ns](1), float64(1), int64(4), object(8)\n",
      "memory usage: 206.7+ KB\n"
     ]
    }
   ],
   "source": [
    "data.info()"
   ]
  },
  {
   "cell_type": "code",
   "execution_count": 292,
   "metadata": {
    "colab": {},
    "colab_type": "code",
    "id": "CoYUnagMVp-C"
   },
   "outputs": [
    {
     "data": {
      "text/html": [
       "<div>\n",
       "<style scoped>\n",
       "    .dataframe tbody tr th:only-of-type {\n",
       "        vertical-align: middle;\n",
       "    }\n",
       "\n",
       "    .dataframe tbody tr th {\n",
       "        vertical-align: top;\n",
       "    }\n",
       "\n",
       "    .dataframe thead th {\n",
       "        text-align: right;\n",
       "    }\n",
       "</style>\n",
       "<table border=\"1\" class=\"dataframe\">\n",
       "  <thead>\n",
       "    <tr style=\"text-align: right;\">\n",
       "      <th></th>\n",
       "      <th>budget</th>\n",
       "      <th>revenue</th>\n",
       "      <th>runtime</th>\n",
       "      <th>vote_average</th>\n",
       "      <th>release_year</th>\n",
       "    </tr>\n",
       "  </thead>\n",
       "  <tbody>\n",
       "    <tr>\n",
       "      <th>count</th>\n",
       "      <td>1.889000e+03</td>\n",
       "      <td>1.889000e+03</td>\n",
       "      <td>1889.000000</td>\n",
       "      <td>1889.000000</td>\n",
       "      <td>1889.000000</td>\n",
       "    </tr>\n",
       "    <tr>\n",
       "      <th>mean</th>\n",
       "      <td>5.431083e+07</td>\n",
       "      <td>1.553653e+08</td>\n",
       "      <td>109.658549</td>\n",
       "      <td>6.140762</td>\n",
       "      <td>2007.860773</td>\n",
       "    </tr>\n",
       "    <tr>\n",
       "      <th>std</th>\n",
       "      <td>4.858721e+07</td>\n",
       "      <td>2.146698e+08</td>\n",
       "      <td>18.017041</td>\n",
       "      <td>0.764763</td>\n",
       "      <td>4.468841</td>\n",
       "    </tr>\n",
       "    <tr>\n",
       "      <th>min</th>\n",
       "      <td>5.000000e+06</td>\n",
       "      <td>2.033165e+06</td>\n",
       "      <td>63.000000</td>\n",
       "      <td>3.300000</td>\n",
       "      <td>2000.000000</td>\n",
       "    </tr>\n",
       "    <tr>\n",
       "      <th>25%</th>\n",
       "      <td>2.000000e+07</td>\n",
       "      <td>3.456058e+07</td>\n",
       "      <td>97.000000</td>\n",
       "      <td>5.600000</td>\n",
       "      <td>2004.000000</td>\n",
       "    </tr>\n",
       "    <tr>\n",
       "      <th>50%</th>\n",
       "      <td>3.800000e+07</td>\n",
       "      <td>8.361541e+07</td>\n",
       "      <td>107.000000</td>\n",
       "      <td>6.100000</td>\n",
       "      <td>2008.000000</td>\n",
       "    </tr>\n",
       "    <tr>\n",
       "      <th>75%</th>\n",
       "      <td>7.200000e+07</td>\n",
       "      <td>1.782626e+08</td>\n",
       "      <td>120.000000</td>\n",
       "      <td>6.600000</td>\n",
       "      <td>2012.000000</td>\n",
       "    </tr>\n",
       "    <tr>\n",
       "      <th>max</th>\n",
       "      <td>3.800000e+08</td>\n",
       "      <td>2.781506e+09</td>\n",
       "      <td>214.000000</td>\n",
       "      <td>8.100000</td>\n",
       "      <td>2015.000000</td>\n",
       "    </tr>\n",
       "  </tbody>\n",
       "</table>\n",
       "</div>"
      ],
      "text/plain": [
       "             budget       revenue      runtime  vote_average  release_year\n",
       "count  1.889000e+03  1.889000e+03  1889.000000   1889.000000   1889.000000\n",
       "mean   5.431083e+07  1.553653e+08   109.658549      6.140762   2007.860773\n",
       "std    4.858721e+07  2.146698e+08    18.017041      0.764763      4.468841\n",
       "min    5.000000e+06  2.033165e+06    63.000000      3.300000   2000.000000\n",
       "25%    2.000000e+07  3.456058e+07    97.000000      5.600000   2004.000000\n",
       "50%    3.800000e+07  8.361541e+07   107.000000      6.100000   2008.000000\n",
       "75%    7.200000e+07  1.782626e+08   120.000000      6.600000   2012.000000\n",
       "max    3.800000e+08  2.781506e+09   214.000000      8.100000   2015.000000"
      ]
     },
     "execution_count": 292,
     "metadata": {},
     "output_type": "execute_result"
    }
   ],
   "source": [
    "data.describe()"
   ]
  },
  {
   "cell_type": "markdown",
   "metadata": {
    "colab_type": "text",
    "id": "DTIt7ezGVp-G"
   },
   "source": [
    "# Предобработка"
   ]
  },
  {
   "cell_type": "code",
   "execution_count": 293,
   "metadata": {
    "colab": {},
    "colab_type": "code",
    "id": "jNb40DwKVp-H"
   },
   "outputs": [
    {
     "name": "stdout",
     "output_type": "stream",
     "text": [
      "imdb_id - False\n",
      "original_title - False\n",
      "cast - True\n",
      "director - True\n",
      "tagline - False\n",
      "overview - False\n",
      "genres - True\n",
      "production_companies - True\n"
     ]
    },
    {
     "data": {
      "text/html": [
       "<div>\n",
       "<style scoped>\n",
       "    .dataframe tbody tr th:only-of-type {\n",
       "        vertical-align: middle;\n",
       "    }\n",
       "\n",
       "    .dataframe tbody tr th {\n",
       "        vertical-align: top;\n",
       "    }\n",
       "\n",
       "    .dataframe thead th {\n",
       "        text-align: right;\n",
       "    }\n",
       "</style>\n",
       "<table border=\"1\" class=\"dataframe\">\n",
       "  <thead>\n",
       "    <tr style=\"text-align: right;\">\n",
       "      <th></th>\n",
       "      <th>imdb_id</th>\n",
       "      <th>budget</th>\n",
       "      <th>revenue</th>\n",
       "      <th>original_title</th>\n",
       "      <th>cast</th>\n",
       "      <th>director</th>\n",
       "      <th>tagline</th>\n",
       "      <th>overview</th>\n",
       "      <th>runtime</th>\n",
       "      <th>genres</th>\n",
       "      <th>production_companies</th>\n",
       "      <th>release_date</th>\n",
       "      <th>vote_average</th>\n",
       "      <th>release_year</th>\n",
       "      <th>profit</th>\n",
       "    </tr>\n",
       "  </thead>\n",
       "  <tbody>\n",
       "    <tr>\n",
       "      <th>541</th>\n",
       "      <td>tt0272020</td>\n",
       "      <td>72000000</td>\n",
       "      <td>27642707</td>\n",
       "      <td>The Last Castle</td>\n",
       "      <td>[Robert Redford, James Gandolfini, Mark Ruffal...</td>\n",
       "      <td>[Rod Lurie]</td>\n",
       "      <td>A Castle Can Only Have One King</td>\n",
       "      <td>A Court Martialed general rallies together 120...</td>\n",
       "      <td>131</td>\n",
       "      <td>[Action, Drama, Thriller]</td>\n",
       "      <td>[DreamWorks SKG]</td>\n",
       "      <td>2001-10-19</td>\n",
       "      <td>7.1</td>\n",
       "      <td>2001</td>\n",
       "      <td>-44357293</td>\n",
       "    </tr>\n",
       "    <tr>\n",
       "      <th>1305</th>\n",
       "      <td>tt2034139</td>\n",
       "      <td>5000000</td>\n",
       "      <td>15179302</td>\n",
       "      <td>The Last Exorcism Part II</td>\n",
       "      <td>[Ashley Bell, Julia Garner, Andrew Sensenig, S...</td>\n",
       "      <td>[Ed Gass-Donnelly]</td>\n",
       "      <td>The second coming</td>\n",
       "      <td>As Nell Sweetzer tries to build a new life aft...</td>\n",
       "      <td>88</td>\n",
       "      <td>[Horror, Thriller]</td>\n",
       "      <td>[StudioCanal, CBS Films]</td>\n",
       "      <td>2013-02-28</td>\n",
       "      <td>4.5</td>\n",
       "      <td>2013</td>\n",
       "      <td>10179302</td>\n",
       "    </tr>\n",
       "    <tr>\n",
       "      <th>937</th>\n",
       "      <td>tt0284490</td>\n",
       "      <td>85000000</td>\n",
       "      <td>77741732</td>\n",
       "      <td>Showtime</td>\n",
       "      <td>[Robert De Niro, Rachael Harris, Eddie Murphy,...</td>\n",
       "      <td>[Tom Dey]</td>\n",
       "      <td>Lights. Camera. Aggravation.</td>\n",
       "      <td>A spoof of buddy cop movies where two very dif...</td>\n",
       "      <td>95</td>\n",
       "      <td>[Action, Comedy]</td>\n",
       "      <td>[Village Roadshow Pictures, NPV Entertainment,...</td>\n",
       "      <td>2002-03-14</td>\n",
       "      <td>5.2</td>\n",
       "      <td>2002</td>\n",
       "      <td>-7258268</td>\n",
       "    </tr>\n",
       "    <tr>\n",
       "      <th>159</th>\n",
       "      <td>tt2180411</td>\n",
       "      <td>50000000</td>\n",
       "      <td>212902372</td>\n",
       "      <td>Into the Woods</td>\n",
       "      <td>[Meryl Streep, Emily Blunt, James Corden, Anna...</td>\n",
       "      <td>[Rob Marshall]</td>\n",
       "      <td>Be careful what you wish for...</td>\n",
       "      <td>In a woods filled with magic and fairy tale ch...</td>\n",
       "      <td>125</td>\n",
       "      <td>[Fantasy, Comedy, Music]</td>\n",
       "      <td>[Walt Disney Pictures, Marc Platt Productions,...</td>\n",
       "      <td>2014-12-25</td>\n",
       "      <td>5.6</td>\n",
       "      <td>2014</td>\n",
       "      <td>162902372</td>\n",
       "    </tr>\n",
       "    <tr>\n",
       "      <th>181</th>\n",
       "      <td>tt2024469</td>\n",
       "      <td>50000000</td>\n",
       "      <td>222809600</td>\n",
       "      <td>Non-Stop</td>\n",
       "      <td>[Liam Neeson, Julianne Moore, Scoot McNairy, M...</td>\n",
       "      <td>[Jaume Collet-Serra]</td>\n",
       "      <td>The hijacking was just the beginning.</td>\n",
       "      <td>Bill Marks is a burned-out veteran of the Air ...</td>\n",
       "      <td>106</td>\n",
       "      <td>[Action, Thriller, Mystery]</td>\n",
       "      <td>[StudioCanal, Silver Pictures, TF1 Films Produ...</td>\n",
       "      <td>2014-01-26</td>\n",
       "      <td>6.8</td>\n",
       "      <td>2014</td>\n",
       "      <td>172809600</td>\n",
       "    </tr>\n",
       "  </tbody>\n",
       "</table>\n",
       "</div>"
      ],
      "text/plain": [
       "        imdb_id    budget    revenue             original_title  \\\n",
       "541   tt0272020  72000000   27642707            The Last Castle   \n",
       "1305  tt2034139   5000000   15179302  The Last Exorcism Part II   \n",
       "937   tt0284490  85000000   77741732                   Showtime   \n",
       "159   tt2180411  50000000  212902372             Into the Woods   \n",
       "181   tt2024469  50000000  222809600                   Non-Stop   \n",
       "\n",
       "                                                   cast              director  \\\n",
       "541   [Robert Redford, James Gandolfini, Mark Ruffal...           [Rod Lurie]   \n",
       "1305  [Ashley Bell, Julia Garner, Andrew Sensenig, S...    [Ed Gass-Donnelly]   \n",
       "937   [Robert De Niro, Rachael Harris, Eddie Murphy,...             [Tom Dey]   \n",
       "159   [Meryl Streep, Emily Blunt, James Corden, Anna...        [Rob Marshall]   \n",
       "181   [Liam Neeson, Julianne Moore, Scoot McNairy, M...  [Jaume Collet-Serra]   \n",
       "\n",
       "                                    tagline  \\\n",
       "541         A Castle Can Only Have One King   \n",
       "1305                      The second coming   \n",
       "937            Lights. Camera. Aggravation.   \n",
       "159         Be careful what you wish for...   \n",
       "181   The hijacking was just the beginning.   \n",
       "\n",
       "                                               overview  runtime  \\\n",
       "541   A Court Martialed general rallies together 120...      131   \n",
       "1305  As Nell Sweetzer tries to build a new life aft...       88   \n",
       "937   A spoof of buddy cop movies where two very dif...       95   \n",
       "159   In a woods filled with magic and fairy tale ch...      125   \n",
       "181   Bill Marks is a burned-out veteran of the Air ...      106   \n",
       "\n",
       "                           genres  \\\n",
       "541     [Action, Drama, Thriller]   \n",
       "1305           [Horror, Thriller]   \n",
       "937              [Action, Comedy]   \n",
       "159      [Fantasy, Comedy, Music]   \n",
       "181   [Action, Thriller, Mystery]   \n",
       "\n",
       "                                   production_companies release_date  \\\n",
       "541                                    [DreamWorks SKG]   2001-10-19   \n",
       "1305                           [StudioCanal, CBS Films]   2013-02-28   \n",
       "937   [Village Roadshow Pictures, NPV Entertainment,...   2002-03-14   \n",
       "159   [Walt Disney Pictures, Marc Platt Productions,...   2014-12-25   \n",
       "181   [StudioCanal, Silver Pictures, TF1 Films Produ...   2014-01-26   \n",
       "\n",
       "      vote_average  release_year     profit  \n",
       "541            7.1          2001  -44357293  \n",
       "1305           4.5          2013   10179302  \n",
       "937            5.2          2002   -7258268  \n",
       "159            5.6          2014  162902372  \n",
       "181            6.8          2014  172809600  "
      ]
     },
     "execution_count": 293,
     "metadata": {},
     "output_type": "execute_result"
    }
   ],
   "source": [
    "answers = {} # создадим словарь для ответов\n",
    "\n",
    "#\n",
    "#Ищем столбы с значениями разделенными | и преобразем их в список\n",
    "for col in data.columns:\n",
    "    if data[col].dtype == 'object':\n",
    "        multiple_data = data[col].str.contains('|', regex=False).any()\n",
    "        print(f'{col} - {multiple_data}')\n",
    "        #Если есть разделитель, преобразовываем в список\n",
    "        if multiple_data:\n",
    "            data[col] = data[col].str.split(\"|\")\n",
    "\n",
    "# Добавим столбец с прибылью\n",
    "data['profit'] = data['revenue'] - data['budget'] \n",
    "\n",
    "data.sample(5)"
   ]
  },
  {
   "cell_type": "markdown",
   "metadata": {
    "colab_type": "text",
    "id": "YxZaH-nPVp-L"
   },
   "source": [
    "# 1. У какого фильма из списка самый большой бюджет?"
   ]
  },
  {
   "cell_type": "markdown",
   "metadata": {
    "colab_type": "text",
    "id": "Nd-G5gX6Vp-M"
   },
   "source": [
    "Использовать варианты ответов в коде решения запрещено.    \n",
    "Вы думаете и в жизни у вас будут варианты ответов?)"
   ]
  },
  {
   "cell_type": "code",
   "execution_count": 294,
   "metadata": {
    "colab": {},
    "colab_type": "code",
    "id": "uVnXAY5RVp-O"
   },
   "outputs": [],
   "source": [
    "# в словарь вставляем номер вопроса и ваш ответ на него\n",
    "# Пример: \n",
    "answers['1'] = '2. Spider-Man 3 (tt0413300)'\n",
    "# запишите свой вариант ответа\n",
    "answers['1'] = '...'\n",
    "# если ответили верно, можете добавить комментарий со значком \"+\""
   ]
  },
  {
   "cell_type": "code",
   "execution_count": 295,
   "metadata": {
    "colab": {},
    "colab_type": "code",
    "id": "dZwb3m28Vp-S"
   },
   "outputs": [
    {
     "data": {
      "text/plain": [
       "'Pirates of the Caribbean: On Stranger Tides (tt1298650)'"
      ]
     },
     "execution_count": 295,
     "metadata": {},
     "output_type": "execute_result"
    }
   ],
   "source": [
    "max_budget = data.loc[ data['budget'].idxmax() ]\n",
    "\n",
    "answers['1']  = max_budget['original_title'] +' (' + max_budget['imdb_id']+')'\n",
    "answers['1']"
   ]
  },
  {
   "cell_type": "markdown",
   "metadata": {
    "colab_type": "text",
    "id": "K7L3nbRXVp-X"
   },
   "source": [
    "ВАРИАНТ 2"
   ]
  },
  {
   "cell_type": "code",
   "execution_count": 296,
   "metadata": {
    "colab": {},
    "colab_type": "code",
    "id": "OGaoQI7rVp-X"
   },
   "outputs": [
    {
     "name": "stdout",
     "output_type": "stream",
     "text": [
      "Pirates of the Caribbean: On Stranger Tides (tt1298650)\n"
     ]
    }
   ],
   "source": [
    "#Сортируем по бюджету и выбираем первое значение \n",
    "max_budget_v2 = data.sort_values('budget', ascending=False).iloc[0]\n",
    "print ( max_budget_v2['original_title'] +' (' + max_budget_v2['imdb_id']+')' )"
   ]
  },
  {
   "cell_type": "markdown",
   "metadata": {
    "colab_type": "text",
    "id": "FNRbbI3vVp-c"
   },
   "source": [
    "# 2. Какой из фильмов самый длительный (в минутах)?"
   ]
  },
  {
   "cell_type": "code",
   "execution_count": 297,
   "metadata": {
    "colab": {},
    "colab_type": "code",
    "id": "vHAoEXNTVp-d"
   },
   "outputs": [
    {
     "name": "stdout",
     "output_type": "stream",
     "text": [
      "Gods and Generals (tt0279111) 214 минут\n"
     ]
    }
   ],
   "source": [
    "long_film =  data.loc[ data['runtime'].idxmax() ]\n",
    "\n",
    "answers['2']  = long_film['original_title'] +' (' + long_film['imdb_id']+')'\n",
    "\n",
    "print(answers['2'], long_film['runtime'], \"минут\")"
   ]
  },
  {
   "cell_type": "code",
   "execution_count": null,
   "metadata": {
    "colab": {},
    "colab_type": "code",
    "id": "ot-VX2XrVp-g"
   },
   "outputs": [],
   "source": []
  },
  {
   "cell_type": "markdown",
   "metadata": {
    "colab_type": "text",
    "id": "bapLlpW8Vp-k"
   },
   "source": [
    "# 3. Какой из фильмов самый короткий (в минутах)?\n",
    "\n",
    "\n",
    "\n"
   ]
  },
  {
   "cell_type": "code",
   "execution_count": 298,
   "metadata": {
    "colab": {},
    "colab_type": "code",
    "id": "YBxaSHuAVp-l"
   },
   "outputs": [
    {
     "name": "stdout",
     "output_type": "stream",
     "text": [
      "Winnie the Pooh (tt1449283) 63 минут\n"
     ]
    }
   ],
   "source": [
    "short_film =  data.loc[ data['runtime'].idxmin() ]\n",
    "\n",
    "answers['3']  = short_film['original_title'] +' (' + short_film['imdb_id']+')'\n",
    "\n",
    "print(answers['3'], short_film['runtime'], \"минут\")"
   ]
  },
  {
   "cell_type": "markdown",
   "metadata": {
    "colab_type": "text",
    "id": "TfQbxbfNVp-p"
   },
   "source": [
    "# 4. Какова средняя длительность фильмов?\n"
   ]
  },
  {
   "cell_type": "code",
   "execution_count": 299,
   "metadata": {
    "colab": {},
    "colab_type": "code",
    "id": "5K6dKZYVVp-q"
   },
   "outputs": [
    {
     "data": {
      "text/plain": [
       "109.6585494970884"
      ]
     },
     "execution_count": 299,
     "metadata": {},
     "output_type": "execute_result"
    }
   ],
   "source": [
    "answers['4'] = data['runtime'].mean();\n",
    "\n",
    "answers['4'] "
   ]
  },
  {
   "cell_type": "markdown",
   "metadata": {
    "colab_type": "text",
    "id": "r5TvbnT_Vp-u"
   },
   "source": [
    "# 5. Каково медианное значение длительности фильмов? "
   ]
  },
  {
   "cell_type": "code",
   "execution_count": 300,
   "metadata": {
    "colab": {},
    "colab_type": "code",
    "id": "iBROplKnVp-v"
   },
   "outputs": [
    {
     "data": {
      "text/plain": [
       "107.0"
      ]
     },
     "execution_count": 300,
     "metadata": {},
     "output_type": "execute_result"
    }
   ],
   "source": [
    "answers['5'] = data['runtime'].median();\n",
    "answers['5']"
   ]
  },
  {
   "cell_type": "markdown",
   "metadata": {
    "colab_type": "text",
    "id": "39P-deDSVp-y"
   },
   "source": [
    "# 6. Какой самый прибыльный фильм?\n",
    "#### Внимание! Здесь и далее под «прибылью» или «убытками» понимается разность между сборами и бюджетом фильма. (прибыль = сборы - бюджет) в нашем датасете это будет (profit = revenue - budget) "
   ]
  },
  {
   "cell_type": "code",
   "execution_count": 301,
   "metadata": {
    "colab": {},
    "colab_type": "code",
    "id": "UYZh4T9WVp-y"
   },
   "outputs": [
    {
     "name": "stdout",
     "output_type": "stream",
     "text": [
      "Avatar (tt0499549) прибыль  2544505847\n"
     ]
    }
   ],
   "source": [
    "max_profit =  data.loc[ data['profit'].idxmax() ]\n",
    "\n",
    "answers['6']  = max_profit['original_title'] +' (' + max_profit['imdb_id']+')'\n",
    "\n",
    "print(answers['6'], \"прибыль \",max_profit['profit'])"
   ]
  },
  {
   "cell_type": "markdown",
   "metadata": {
    "colab_type": "text",
    "id": "M99JmIX4Vp-2"
   },
   "source": [
    "# 7. Какой фильм самый убыточный? "
   ]
  },
  {
   "cell_type": "code",
   "execution_count": 302,
   "metadata": {
    "colab": {},
    "colab_type": "code",
    "id": "w-D2m4XPVp-3"
   },
   "outputs": [
    {
     "name": "stdout",
     "output_type": "stream",
     "text": [
      "The Lone Ranger (tt1210819) убыток  165710090\n"
     ]
    }
   ],
   "source": [
    "min_profit = data.loc[ data['profit'].idxmin() ]\n",
    "answers['7']  = min_profit['original_title'] +' (' + min_profit['imdb_id']+')'\n",
    "\n",
    "print(answers['7'], \"убыток \",-min_profit['profit'])"
   ]
  },
  {
   "cell_type": "markdown",
   "metadata": {
    "colab_type": "text",
    "id": "wEOM5ERVVp-6"
   },
   "source": [
    "# 8. У скольких фильмов из датасета объем сборов оказался выше бюджета?"
   ]
  },
  {
   "cell_type": "code",
   "execution_count": 303,
   "metadata": {
    "colab": {},
    "colab_type": "code",
    "id": "y00_7HD6Vp-7"
   },
   "outputs": [
    {
     "data": {
      "text/plain": [
       "1478"
      ]
     },
     "execution_count": 303,
     "metadata": {},
     "output_type": "execute_result"
    }
   ],
   "source": [
    "answers['8'] = data[ data['profit'] > 0 ]['imdb_id'].count()\n",
    "answers['8']"
   ]
  },
  {
   "cell_type": "markdown",
   "metadata": {
    "colab_type": "text",
    "id": "xhpspA9KVp_A"
   },
   "source": [
    "# 9. Какой фильм оказался самым кассовым в 2008 году?"
   ]
  },
  {
   "cell_type": "code",
   "execution_count": 304,
   "metadata": {
    "colab": {},
    "colab_type": "code",
    "id": "MoUyQr9RVp_B"
   },
   "outputs": [
    {
     "data": {
      "text/html": [
       "<div>\n",
       "<style scoped>\n",
       "    .dataframe tbody tr th:only-of-type {\n",
       "        vertical-align: middle;\n",
       "    }\n",
       "\n",
       "    .dataframe tbody tr th {\n",
       "        vertical-align: top;\n",
       "    }\n",
       "\n",
       "    .dataframe thead th {\n",
       "        text-align: right;\n",
       "    }\n",
       "</style>\n",
       "<table border=\"1\" class=\"dataframe\">\n",
       "  <thead>\n",
       "    <tr style=\"text-align: right;\">\n",
       "      <th></th>\n",
       "      <th>original_title</th>\n",
       "      <th>release_date</th>\n",
       "      <th>revenue</th>\n",
       "    </tr>\n",
       "  </thead>\n",
       "  <tbody>\n",
       "    <tr>\n",
       "      <th>599</th>\n",
       "      <td>The Dark Knight</td>\n",
       "      <td>2008-07-16</td>\n",
       "      <td>1001921825</td>\n",
       "    </tr>\n",
       "    <tr>\n",
       "      <th>603</th>\n",
       "      <td>Indiana Jones and the Kingdom of the Crystal S...</td>\n",
       "      <td>2008-05-21</td>\n",
       "      <td>786636033</td>\n",
       "    </tr>\n",
       "    <tr>\n",
       "      <th>606</th>\n",
       "      <td>Kung Fu Panda</td>\n",
       "      <td>2008-06-04</td>\n",
       "      <td>631744560</td>\n",
       "    </tr>\n",
       "    <tr>\n",
       "      <th>621</th>\n",
       "      <td>Hancock</td>\n",
       "      <td>2008-07-01</td>\n",
       "      <td>624029371</td>\n",
       "    </tr>\n",
       "    <tr>\n",
       "      <th>607</th>\n",
       "      <td>Mamma Mia!</td>\n",
       "      <td>2008-06-30</td>\n",
       "      <td>609841637</td>\n",
       "    </tr>\n",
       "  </tbody>\n",
       "</table>\n",
       "</div>"
      ],
      "text/plain": [
       "                                        original_title release_date  \\\n",
       "599                                    The Dark Knight   2008-07-16   \n",
       "603  Indiana Jones and the Kingdom of the Crystal S...   2008-05-21   \n",
       "606                                      Kung Fu Panda   2008-06-04   \n",
       "621                                            Hancock   2008-07-01   \n",
       "607                                         Mamma Mia!   2008-06-30   \n",
       "\n",
       "        revenue  \n",
       "599  1001921825  \n",
       "603   786636033  \n",
       "606   631744560  \n",
       "621   624029371  \n",
       "607   609841637  "
      ]
     },
     "metadata": {},
     "output_type": "display_data"
    },
    {
     "data": {
      "text/plain": [
       "'The Dark Knight (tt0468569)'"
      ]
     },
     "execution_count": 304,
     "metadata": {},
     "output_type": "execute_result"
    }
   ],
   "source": [
    "#Выбираем фильмы 2008 года\n",
    "films2008 = data[ data['release_date'].dt.year == 2008 ]\n",
    "\n",
    "#Выведем 5 самых кассовых фильмов 2008 года\n",
    "display( films2008[['original_title', 'release_date', 'revenue'] ].nlargest(5, ['revenue']) )\n",
    "\n",
    "#Выберем самый кассовый\n",
    "max_revenue2018 = films2008.loc[ films2008['revenue'].idxmax() ]\n",
    "answers['9']  = max_revenue2018['original_title'] +' (' + max_revenue2018['imdb_id']+')'\n",
    "answers['9']"
   ]
  },
  {
   "cell_type": "markdown",
   "metadata": {
    "colab_type": "text",
    "id": "Zi4hDKidVp_F"
   },
   "source": [
    "# 10. Самый убыточный фильм за период с 2012 по 2014 г. (включительно)?\n"
   ]
  },
  {
   "cell_type": "code",
   "execution_count": 305,
   "metadata": {
    "colab": {},
    "colab_type": "code",
    "id": "XqyRmufJVp_F"
   },
   "outputs": [
    {
     "data": {
      "text/plain": [
       "'The Lone Ranger (tt1210819)'"
      ]
     },
     "execution_count": 305,
     "metadata": {},
     "output_type": "execute_result"
    }
   ],
   "source": [
    "films2012_2014 = data[ (data['release_date'].dt.year >= 2012 ) & (data['release_date'].dt.year <= 2014 ) ]\n",
    "\n",
    "min_profit2012_2014 = films2012_2014.loc[ films2012_2014['profit'].idxmin() ]\n",
    "answers['10']  = min_profit2012_2014['original_title'] +' (' + min_profit2012_2014['imdb_id']+')'\n",
    "\n",
    "answers['10']"
   ]
  },
  {
   "cell_type": "markdown",
   "metadata": {
    "colab_type": "text",
    "id": "EA7Sa9dkVp_I"
   },
   "source": [
    "# 11. Какого жанра фильмов больше всего?"
   ]
  },
  {
   "cell_type": "code",
   "execution_count": 306,
   "metadata": {
    "colab": {},
    "colab_type": "code",
    "id": "zsJAwJ8QVp_J"
   },
   "outputs": [
    {
     "data": {
      "text/html": [
       "<div>\n",
       "<style scoped>\n",
       "    .dataframe tbody tr th:only-of-type {\n",
       "        vertical-align: middle;\n",
       "    }\n",
       "\n",
       "    .dataframe tbody tr th {\n",
       "        vertical-align: top;\n",
       "    }\n",
       "\n",
       "    .dataframe thead th {\n",
       "        text-align: right;\n",
       "    }\n",
       "</style>\n",
       "<table border=\"1\" class=\"dataframe\">\n",
       "  <thead>\n",
       "    <tr style=\"text-align: right;\">\n",
       "      <th></th>\n",
       "      <th>genre</th>\n",
       "      <th>film_counts</th>\n",
       "    </tr>\n",
       "  </thead>\n",
       "  <tbody>\n",
       "    <tr>\n",
       "      <th>17</th>\n",
       "      <td>Drama</td>\n",
       "      <td>782</td>\n",
       "    </tr>\n",
       "    <tr>\n",
       "      <th>5</th>\n",
       "      <td>Comedy</td>\n",
       "      <td>683</td>\n",
       "    </tr>\n",
       "    <tr>\n",
       "      <th>9</th>\n",
       "      <td>Thriller</td>\n",
       "      <td>596</td>\n",
       "    </tr>\n",
       "    <tr>\n",
       "      <th>12</th>\n",
       "      <td>Action</td>\n",
       "      <td>582</td>\n",
       "    </tr>\n",
       "    <tr>\n",
       "      <th>7</th>\n",
       "      <td>Adventure</td>\n",
       "      <td>415</td>\n",
       "    </tr>\n",
       "  </tbody>\n",
       "</table>\n",
       "</div>"
      ],
      "text/plain": [
       "        genre  film_counts\n",
       "17      Drama          782\n",
       "5      Comedy          683\n",
       "9    Thriller          596\n",
       "12     Action          582\n",
       "7   Adventure          415"
      ]
     },
     "metadata": {},
     "output_type": "display_data"
    },
    {
     "data": {
      "text/plain": [
       "'Drama'"
      ]
     },
     "execution_count": 306,
     "metadata": {},
     "output_type": "execute_result"
    }
   ],
   "source": [
    "#Создадим  список всех жанров без повторений\n",
    "all_genres = list( set( data['genres'].sum() ) )\n",
    "\n",
    "#Посчитаем кол-во фильмов по жанрам\n",
    "g_cnts = []\n",
    "for genre in all_genres:\n",
    "    g_cnts.append( data[ data['genres'].str.contains( genre, regex=False, na=False ) ]['imdb_id'].count() )    \n",
    "\n",
    "# Создадим датафрейм    \n",
    "genre_films = pd.DataFrame({\n",
    "    'genre': all_genres,\n",
    "    'film_counts': g_cnts })\n",
    "    \n",
    "#Выведем наиболее выбираемые жанры    \n",
    "display( genre_films.nlargest(5, ['film_counts']) )\n",
    "    \n",
    "    \n",
    "answers['11'] = genre_films.iloc[ genre_films['film_counts'].idxmax() ]['genre']\n",
    "answers['11']"
   ]
  },
  {
   "cell_type": "markdown",
   "metadata": {
    "colab_type": "text",
    "id": "Ax6g2C8SVp_M"
   },
   "source": [
    "ВАРИАНТ 2"
   ]
  },
  {
   "cell_type": "code",
   "execution_count": 307,
   "metadata": {
    "colab": {},
    "colab_type": "code",
    "id": "otO3SbrSVp_N"
   },
   "outputs": [
    {
     "data": {
      "text/plain": [
       "[('Drama', 782),\n",
       " ('Comedy', 683),\n",
       " ('Thriller', 596),\n",
       " ('Action', 582),\n",
       " ('Adventure', 415)]"
      ]
     },
     "metadata": {},
     "output_type": "display_data"
    },
    {
     "data": {
      "text/plain": [
       "'Drama'"
      ]
     },
     "execution_count": 307,
     "metadata": {},
     "output_type": "execute_result"
    }
   ],
   "source": [
    "#Соберем все жанры в один большрой список\n",
    "alls_genre = Counter( data['genres'].sum() )\n",
    "\n",
    "#Выведем 5 наиболее часто встречающихся\n",
    "display( alls_genre.most_common(5) )\n",
    "\n",
    "#Посчитаем наиболее частые значения\n",
    "most_genre = alls_genre.most_common(1)\n",
    "\n",
    "most_genre[0][0]\n"
   ]
  },
  {
   "cell_type": "markdown",
   "metadata": {
    "colab_type": "text",
    "id": "T9_bPWpkVp_Q"
   },
   "source": [
    "# 12. Фильмы какого жанра чаще всего становятся прибыльными? "
   ]
  },
  {
   "cell_type": "code",
   "execution_count": 308,
   "metadata": {
    "colab": {},
    "colab_type": "code",
    "id": "Tmt8MaK1Vp_R"
   },
   "outputs": [
    {
     "data": {
      "text/html": [
       "<div>\n",
       "<style scoped>\n",
       "    .dataframe tbody tr th:only-of-type {\n",
       "        vertical-align: middle;\n",
       "    }\n",
       "\n",
       "    .dataframe tbody tr th {\n",
       "        vertical-align: top;\n",
       "    }\n",
       "\n",
       "    .dataframe thead th {\n",
       "        text-align: right;\n",
       "    }\n",
       "</style>\n",
       "<table border=\"1\" class=\"dataframe\">\n",
       "  <thead>\n",
       "    <tr style=\"text-align: right;\">\n",
       "      <th></th>\n",
       "      <th>profit_cnt</th>\n",
       "    </tr>\n",
       "  </thead>\n",
       "  <tbody>\n",
       "    <tr>\n",
       "      <th>Drama</th>\n",
       "      <td>375</td>\n",
       "    </tr>\n",
       "    <tr>\n",
       "      <th>Comedy</th>\n",
       "      <td>329</td>\n",
       "    </tr>\n",
       "    <tr>\n",
       "      <th>Thriller</th>\n",
       "      <td>288</td>\n",
       "    </tr>\n",
       "    <tr>\n",
       "      <th>Action</th>\n",
       "      <td>283</td>\n",
       "    </tr>\n",
       "    <tr>\n",
       "      <th>Adventure</th>\n",
       "      <td>183</td>\n",
       "    </tr>\n",
       "  </tbody>\n",
       "</table>\n",
       "</div>"
      ],
      "text/plain": [
       "           profit_cnt\n",
       "Drama             375\n",
       "Comedy            329\n",
       "Thriller          288\n",
       "Action            283\n",
       "Adventure         183"
      ]
     },
     "metadata": {},
     "output_type": "display_data"
    },
    {
     "data": {
      "text/plain": [
       "'Drama'"
      ]
     },
     "execution_count": 308,
     "metadata": {},
     "output_type": "execute_result"
    }
   ],
   "source": [
    "#Создадим  список всех жанров без повторений\n",
    "all_genres = list( set( data['genres'].sum() ) )\n",
    "\n",
    "#Посчитаем кол-во прибыльных фильмов по жанрам\n",
    "g_profit = []\n",
    "for genre in all_genres:\n",
    "    g_profit.append( data[ data['genres'].str.contains( genre, regex=False, na=False ) &\n",
    "                           data['profit'] > 0 ]['imdb_id'].count() )    \n",
    "\n",
    "genre_profit_cnt = pd.DataFrame({'profit_cnt': g_profit }, index = all_genres)\n",
    "      \n",
    "#Выведем самые частые   \n",
    "display( genre_profit_cnt.nlargest(5, ['profit_cnt']) )\n",
    "\n",
    "answers['12'] = genre_profit_cnt['profit_cnt'].idxmax()\n",
    "answers['12']"
   ]
  },
  {
   "cell_type": "markdown",
   "metadata": {
    "colab_type": "text",
    "id": "0F23bgsDVp_U"
   },
   "source": [
    "# 13. У какого режиссера самые большие суммарные кассовые сборы?"
   ]
  },
  {
   "cell_type": "code",
   "execution_count": 309,
   "metadata": {
    "colab": {},
    "colab_type": "code",
    "id": "K6Z3J8ygVp_X"
   },
   "outputs": [
    {
     "data": {
      "text/html": [
       "<div>\n",
       "<style scoped>\n",
       "    .dataframe tbody tr th:only-of-type {\n",
       "        vertical-align: middle;\n",
       "    }\n",
       "\n",
       "    .dataframe tbody tr th {\n",
       "        vertical-align: top;\n",
       "    }\n",
       "\n",
       "    .dataframe thead th {\n",
       "        text-align: right;\n",
       "    }\n",
       "</style>\n",
       "<table border=\"1\" class=\"dataframe\">\n",
       "  <thead>\n",
       "    <tr style=\"text-align: right;\">\n",
       "      <th></th>\n",
       "      <th>revenue_sum</th>\n",
       "    </tr>\n",
       "    <tr>\n",
       "      <th>director</th>\n",
       "      <th></th>\n",
       "    </tr>\n",
       "  </thead>\n",
       "  <tbody>\n",
       "    <tr>\n",
       "      <th>Peter Jackson</th>\n",
       "      <td>6490593685</td>\n",
       "    </tr>\n",
       "    <tr>\n",
       "      <th>Christopher Nolan</th>\n",
       "      <td>4167548502</td>\n",
       "    </tr>\n",
       "    <tr>\n",
       "      <th>David Yates</th>\n",
       "      <td>4154295625</td>\n",
       "    </tr>\n",
       "    <tr>\n",
       "      <th>Michael Bay</th>\n",
       "      <td>3886938960</td>\n",
       "    </tr>\n",
       "    <tr>\n",
       "      <th>J.J. Abrams</th>\n",
       "      <td>3579169916</td>\n",
       "    </tr>\n",
       "  </tbody>\n",
       "</table>\n",
       "</div>"
      ],
      "text/plain": [
       "                   revenue_sum\n",
       "director                      \n",
       "Peter Jackson       6490593685\n",
       "Christopher Nolan   4167548502\n",
       "David Yates         4154295625\n",
       "Michael Bay         3886938960\n",
       "J.J. Abrams         3579169916"
      ]
     },
     "metadata": {},
     "output_type": "display_data"
    },
    {
     "data": {
      "text/plain": [
       "'Peter Jackson'"
      ]
     },
     "execution_count": 309,
     "metadata": {},
     "output_type": "execute_result"
    }
   ],
   "source": [
    "#Создадим датафрейм со списком всех режисеров\n",
    "director_films = pd.DataFrame({\n",
    "    'director': list( set( data['director'].sum() ) ) })\n",
    "\n",
    "#Добавим колонку с сумарным сбором фильмов, с разделением по режисеру \n",
    "director_films['revenue_sum'] = director_films['director'].apply(lambda x: data[ data['director'].str.contains(x,  regex=False, na=False) ]['revenue'].sum() )\n",
    "\n",
    "#Сделаем индексом режисера\n",
    "director_films.set_index(['director'], inplace=True)\n",
    "\n",
    "#Посмотрим самых кассовых режисеров\n",
    "display( director_films.nlargest(5, ['revenue_sum']) )\n",
    "\n",
    "#Запишем ответ\n",
    "answers['13'] = director_films['revenue_sum'].idxmax()\n",
    "answers['13']"
   ]
  },
  {
   "cell_type": "markdown",
   "metadata": {
    "colab_type": "text",
    "id": "PsYC9FgRVp_a"
   },
   "source": [
    "# 14. Какой режисер снял больше всего фильмов в стиле Action?"
   ]
  },
  {
   "cell_type": "code",
   "execution_count": 310,
   "metadata": {
    "colab": {},
    "colab_type": "code",
    "id": "wd2M-wHeVp_b"
   },
   "outputs": [
    {
     "data": {
      "text/html": [
       "<div>\n",
       "<style scoped>\n",
       "    .dataframe tbody tr th:only-of-type {\n",
       "        vertical-align: middle;\n",
       "    }\n",
       "\n",
       "    .dataframe tbody tr th {\n",
       "        vertical-align: top;\n",
       "    }\n",
       "\n",
       "    .dataframe thead th {\n",
       "        text-align: right;\n",
       "    }\n",
       "</style>\n",
       "<table border=\"1\" class=\"dataframe\">\n",
       "  <thead>\n",
       "    <tr style=\"text-align: right;\">\n",
       "      <th></th>\n",
       "      <th>action_cnt</th>\n",
       "    </tr>\n",
       "    <tr>\n",
       "      <th>director</th>\n",
       "      <th></th>\n",
       "    </tr>\n",
       "  </thead>\n",
       "  <tbody>\n",
       "    <tr>\n",
       "      <th>Robert Rodriguez</th>\n",
       "      <td>9</td>\n",
       "    </tr>\n",
       "    <tr>\n",
       "      <th>Michael Bay</th>\n",
       "      <td>7</td>\n",
       "    </tr>\n",
       "    <tr>\n",
       "      <th>Paul W.S. Anderson</th>\n",
       "      <td>7</td>\n",
       "    </tr>\n",
       "    <tr>\n",
       "      <th>Antoine Fuqua</th>\n",
       "      <td>6</td>\n",
       "    </tr>\n",
       "    <tr>\n",
       "      <th>Ridley Scott</th>\n",
       "      <td>6</td>\n",
       "    </tr>\n",
       "  </tbody>\n",
       "</table>\n",
       "</div>"
      ],
      "text/plain": [
       "                    action_cnt\n",
       "director                      \n",
       "Robert Rodriguez             9\n",
       "Michael Bay                  7\n",
       "Paul W.S. Anderson           7\n",
       "Antoine Fuqua                6\n",
       "Ridley Scott                 6"
      ]
     },
     "metadata": {},
     "output_type": "display_data"
    },
    {
     "data": {
      "text/plain": [
       "'Robert Rodriguez'"
      ]
     },
     "execution_count": 310,
     "metadata": {},
     "output_type": "execute_result"
    }
   ],
   "source": [
    "#Создадим датафрейм со списком всех режисеров\n",
    "director_films = pd.DataFrame({\n",
    "    'director': list( set( data['director'].sum() ) ) })\n",
    "\n",
    "#Добавим колонку с сумарным сбором фильмов, с разделением по режисеру \n",
    "director_films['action_cnt'] = director_films['director'].apply(lambda x: data[ data['director'].str.contains(x,  regex=False, na=False) & data['genres'].str.contains( \"Action\", regex=False, na=False ) ]['imdb_id'].count() )\n",
    "\n",
    "#Сделаем индексом режисера\n",
    "director_films.set_index(['director'], inplace=True)\n",
    "\n",
    "display( director_films.nlargest(5, ['action_cnt']) )\n",
    "\n",
    "answers['14'] = director_films['action_cnt'].idxmax()\n",
    "answers['14']"
   ]
  },
  {
   "cell_type": "markdown",
   "metadata": {
    "colab_type": "text",
    "id": "PQ0KciD7Vp_f"
   },
   "source": [
    "# 15. Фильмы с каким актером принесли самые высокие кассовые сборы в 2012 году? "
   ]
  },
  {
   "cell_type": "code",
   "execution_count": 311,
   "metadata": {
    "colab": {},
    "colab_type": "code",
    "id": "aga62oeKVp_g"
   },
   "outputs": [
    {
     "data": {
      "text/html": [
       "<div>\n",
       "<style scoped>\n",
       "    .dataframe tbody tr th:only-of-type {\n",
       "        vertical-align: middle;\n",
       "    }\n",
       "\n",
       "    .dataframe tbody tr th {\n",
       "        vertical-align: top;\n",
       "    }\n",
       "\n",
       "    .dataframe thead th {\n",
       "        text-align: right;\n",
       "    }\n",
       "</style>\n",
       "<table border=\"1\" class=\"dataframe\">\n",
       "  <thead>\n",
       "    <tr style=\"text-align: right;\">\n",
       "      <th></th>\n",
       "      <th>revenue</th>\n",
       "    </tr>\n",
       "    <tr>\n",
       "      <th>cast</th>\n",
       "      <th></th>\n",
       "    </tr>\n",
       "  </thead>\n",
       "  <tbody>\n",
       "    <tr>\n",
       "      <th>Chris Hemsworth</th>\n",
       "      <td>2027450773</td>\n",
       "    </tr>\n",
       "    <tr>\n",
       "      <th>Denis Leary</th>\n",
       "      <td>1629460639</td>\n",
       "    </tr>\n",
       "    <tr>\n",
       "      <th>Anne Hathaway</th>\n",
       "      <td>1522851057</td>\n",
       "    </tr>\n",
       "    <tr>\n",
       "      <th>Mark Ruffalo</th>\n",
       "      <td>1519557910</td>\n",
       "    </tr>\n",
       "    <tr>\n",
       "      <th>Robert Downey Jr.</th>\n",
       "      <td>1519557910</td>\n",
       "    </tr>\n",
       "  </tbody>\n",
       "</table>\n",
       "</div>"
      ],
      "text/plain": [
       "                      revenue\n",
       "cast                         \n",
       "Chris Hemsworth    2027450773\n",
       "Denis Leary        1629460639\n",
       "Anne Hathaway      1522851057\n",
       "Mark Ruffalo       1519557910\n",
       "Robert Downey Jr.  1519557910"
      ]
     },
     "metadata": {},
     "output_type": "display_data"
    },
    {
     "data": {
      "text/plain": [
       "'Chris Hemsworth'"
      ]
     },
     "execution_count": 311,
     "metadata": {},
     "output_type": "execute_result"
    }
   ],
   "source": [
    "#Создадим датафрейм со списком всех актеров\n",
    "cast_revenue2012 = pd.DataFrame({\n",
    "    'cast': list( set( data['cast'].sum() ) ) })\n",
    "\n",
    "#Добавим колонку с сумарным сбором фильмов 2012 года, с разделением по актеру \n",
    "cast_revenue2012['revenue'] = cast_revenue2012['cast'].apply(lambda x: data[ (data['release_date'].dt.year == 2012) & data['cast'].str.contains(x,  regex=False, na=False) ]['revenue'].sum() )\n",
    "\n",
    "#Индекс по актеру\n",
    "cast_revenue2012.set_index(['cast'], inplace=True)\n",
    "\n",
    "display( cast_revenue2012.nlargest(5, ['revenue']) )\n",
    "\n",
    "answers['15'] = cast_revenue2012['revenue'].idxmax()\n",
    "answers['15']"
   ]
  },
  {
   "cell_type": "markdown",
   "metadata": {
    "colab_type": "text",
    "id": "mWHyyL7QVp_j"
   },
   "source": [
    "# 16. Какой актер снялся в большем количестве высокобюджетных фильмов?"
   ]
  },
  {
   "cell_type": "code",
   "execution_count": 312,
   "metadata": {
    "colab": {},
    "colab_type": "code",
    "id": "qQtmHKTFVp_k"
   },
   "outputs": [
    {
     "data": {
      "text/html": [
       "<div>\n",
       "<style scoped>\n",
       "    .dataframe tbody tr th:only-of-type {\n",
       "        vertical-align: middle;\n",
       "    }\n",
       "\n",
       "    .dataframe tbody tr th {\n",
       "        vertical-align: top;\n",
       "    }\n",
       "\n",
       "    .dataframe thead th {\n",
       "        text-align: right;\n",
       "    }\n",
       "</style>\n",
       "<table border=\"1\" class=\"dataframe\">\n",
       "  <thead>\n",
       "    <tr style=\"text-align: right;\">\n",
       "      <th></th>\n",
       "      <th>most_budget_cnt</th>\n",
       "    </tr>\n",
       "    <tr>\n",
       "      <th>cast</th>\n",
       "      <th></th>\n",
       "    </tr>\n",
       "  </thead>\n",
       "  <tbody>\n",
       "    <tr>\n",
       "      <th>Matt Damon</th>\n",
       "      <td>23</td>\n",
       "    </tr>\n",
       "    <tr>\n",
       "      <th>Owen Wilson</th>\n",
       "      <td>20</td>\n",
       "    </tr>\n",
       "    <tr>\n",
       "      <th>Samuel L. Jackson</th>\n",
       "      <td>20</td>\n",
       "    </tr>\n",
       "    <tr>\n",
       "      <th>Johnny Depp</th>\n",
       "      <td>19</td>\n",
       "    </tr>\n",
       "    <tr>\n",
       "      <th>Adam Sandler</th>\n",
       "      <td>19</td>\n",
       "    </tr>\n",
       "  </tbody>\n",
       "</table>\n",
       "</div>"
      ],
      "text/plain": [
       "                   most_budget_cnt\n",
       "cast                              \n",
       "Matt Damon                      23\n",
       "Owen Wilson                     20\n",
       "Samuel L. Jackson               20\n",
       "Johnny Depp                     19\n",
       "Adam Sandler                    19"
      ]
     },
     "metadata": {},
     "output_type": "display_data"
    },
    {
     "data": {
      "text/plain": [
       "'Matt Damon'"
      ]
     },
     "execution_count": 312,
     "metadata": {},
     "output_type": "execute_result"
    }
   ],
   "source": [
    "#Создадим датафрейм со списком всех актеров\n",
    "casts = pd.DataFrame({\n",
    "    'cast': list( set( data['cast'].sum() ) ) })\n",
    "\n",
    "#Добавим колонку с количеством высокобюджетныхфильмов, с разделением по актеру \n",
    "casts['most_budget_cnt'] = casts['cast'].apply(lambda x: data[ (data['budget'] >= data['budget'].median()) & data['cast'].str.contains(x,  regex=False, na=False) ]['imdb_id'].count() )\n",
    "\n",
    "#Меняем индекс на Актера\n",
    "casts.set_index(['cast'], inplace=True)\n",
    "\n",
    "display( casts.nlargest(5, ['most_budget_cnt']) )\n",
    "\n",
    "answers['16'] = casts['most_budget_cnt'].idxmax()\n",
    "answers['16']"
   ]
  },
  {
   "cell_type": "markdown",
   "metadata": {
    "colab_type": "text",
    "id": "NIh6AaW5Vp_n"
   },
   "source": [
    "# 17. В фильмах какого жанра больше всего снимался Nicolas Cage? "
   ]
  },
  {
   "cell_type": "code",
   "execution_count": 313,
   "metadata": {
    "colab": {},
    "colab_type": "code",
    "id": "H74SJDIBVp_n"
   },
   "outputs": [
    {
     "data": {
      "text/html": [
       "<div>\n",
       "<style scoped>\n",
       "    .dataframe tbody tr th:only-of-type {\n",
       "        vertical-align: middle;\n",
       "    }\n",
       "\n",
       "    .dataframe tbody tr th {\n",
       "        vertical-align: top;\n",
       "    }\n",
       "\n",
       "    .dataframe thead th {\n",
       "        text-align: right;\n",
       "    }\n",
       "</style>\n",
       "<table border=\"1\" class=\"dataframe\">\n",
       "  <thead>\n",
       "    <tr style=\"text-align: right;\">\n",
       "      <th></th>\n",
       "      <th>NicCage</th>\n",
       "    </tr>\n",
       "    <tr>\n",
       "      <th>genre</th>\n",
       "      <th></th>\n",
       "    </tr>\n",
       "  </thead>\n",
       "  <tbody>\n",
       "    <tr>\n",
       "      <th>Action</th>\n",
       "      <td>17</td>\n",
       "    </tr>\n",
       "    <tr>\n",
       "      <th>Thriller</th>\n",
       "      <td>15</td>\n",
       "    </tr>\n",
       "    <tr>\n",
       "      <th>Drama</th>\n",
       "      <td>12</td>\n",
       "    </tr>\n",
       "    <tr>\n",
       "      <th>Crime</th>\n",
       "      <td>10</td>\n",
       "    </tr>\n",
       "    <tr>\n",
       "      <th>Fantasy</th>\n",
       "      <td>8</td>\n",
       "    </tr>\n",
       "  </tbody>\n",
       "</table>\n",
       "</div>"
      ],
      "text/plain": [
       "          NicCage\n",
       "genre            \n",
       "Action         17\n",
       "Thriller       15\n",
       "Drama          12\n",
       "Crime          10\n",
       "Fantasy         8"
      ]
     },
     "metadata": {},
     "output_type": "display_data"
    },
    {
     "data": {
      "text/plain": [
       "'Action'"
      ]
     },
     "execution_count": 313,
     "metadata": {},
     "output_type": "execute_result"
    }
   ],
   "source": [
    "#Создадим  список всех жанров без повторений\n",
    "gn_NicCage_cnt = pd.DataFrame({'genre': list( set( data['genres'].sum() ) ) })\n",
    "\n",
    "#Добавим колонку с колисеством фильмов с Nicolas Cage, в разрезе жанров.\n",
    "gn_NicCage_cnt['NicCage'] = gn_NicCage_cnt['genre'].apply(lambda x: data[ data['genres'].str.contains( x, regex=False, na=False) & data['cast'].str.contains(\"Nicolas Cage\",  regex=False, na=False) ]['imdb_id'].count() )\n",
    "\n",
    "#Меняем индекс\n",
    "gn_NicCage_cnt.set_index(['genre'], inplace=True)\n",
    "\n",
    "display( gn_NicCage_cnt.nlargest(5, ['NicCage']) )\n",
    " \n",
    "answers['17'] = gn_NicCage_cnt['NicCage'].idxmax()\n",
    "answers['17']"
   ]
  },
  {
   "cell_type": "markdown",
   "metadata": {
    "colab_type": "text",
    "id": "RqOmPRfWVp_q"
   },
   "source": [
    "# 18. Самый убыточный фильм от Paramount Pictures"
   ]
  },
  {
   "cell_type": "code",
   "execution_count": 314,
   "metadata": {
    "colab": {},
    "colab_type": "code",
    "id": "9E_B0Y96Vp_r"
   },
   "outputs": [
    {
     "data": {
      "text/html": [
       "<div>\n",
       "<style scoped>\n",
       "    .dataframe tbody tr th:only-of-type {\n",
       "        vertical-align: middle;\n",
       "    }\n",
       "\n",
       "    .dataframe tbody tr th {\n",
       "        vertical-align: top;\n",
       "    }\n",
       "\n",
       "    .dataframe thead th {\n",
       "        text-align: right;\n",
       "    }\n",
       "</style>\n",
       "<table border=\"1\" class=\"dataframe\">\n",
       "  <thead>\n",
       "    <tr style=\"text-align: right;\">\n",
       "      <th></th>\n",
       "      <th>original_title</th>\n",
       "      <th>profit</th>\n",
       "    </tr>\n",
       "  </thead>\n",
       "  <tbody>\n",
       "    <tr>\n",
       "      <th>925</th>\n",
       "      <td>K-19: The Widowmaker</td>\n",
       "      <td>-64831034</td>\n",
       "    </tr>\n",
       "    <tr>\n",
       "      <th>1123</th>\n",
       "      <td>Timeline</td>\n",
       "      <td>-60519261</td>\n",
       "    </tr>\n",
       "    <tr>\n",
       "      <th>1722</th>\n",
       "      <td>Next</td>\n",
       "      <td>-51788987</td>\n",
       "    </tr>\n",
       "    <tr>\n",
       "      <th>1623</th>\n",
       "      <td>Alfie</td>\n",
       "      <td>-46604061</td>\n",
       "    </tr>\n",
       "    <tr>\n",
       "      <th>1631</th>\n",
       "      <td>Twisted</td>\n",
       "      <td>-24805000</td>\n",
       "    </tr>\n",
       "  </tbody>\n",
       "</table>\n",
       "</div>"
      ],
      "text/plain": [
       "            original_title    profit\n",
       "925   K-19: The Widowmaker -64831034\n",
       "1123              Timeline -60519261\n",
       "1722                  Next -51788987\n",
       "1623                 Alfie -46604061\n",
       "1631               Twisted -24805000"
      ]
     },
     "metadata": {},
     "output_type": "display_data"
    },
    {
     "data": {
      "text/plain": [
       "'K-19: The Widowmaker (tt0267626)'"
      ]
     },
     "execution_count": 314,
     "metadata": {},
     "output_type": "execute_result"
    }
   ],
   "source": [
    "#Выберем все фильмы от Paramount Pictures\n",
    "films_paramount = data[ data['production_companies'].str.contains(\"Paramount Pictures\", regex=False, na=False) ]\n",
    "\n",
    "#Находим индекс минимального элемента в стобце profit, и по нему получаем всю строку.\n",
    "min_profit = films_paramount.loc[ films_paramount['profit'].idxmin() ]\n",
    "\n",
    "display( films_paramount[['original_title','profit']].nsmallest(5, ['profit']) )\n",
    "\n",
    "answers['18']  = min_profit['original_title'] +' (' + min_profit['imdb_id']+')'\n",
    "answers['18']"
   ]
  },
  {
   "cell_type": "markdown",
   "metadata": {
    "colab_type": "text",
    "id": "vS8Ur6ddVp_u"
   },
   "source": [
    "# 19. Какой год стал самым успешным по суммарным кассовым сборам?"
   ]
  },
  {
   "cell_type": "code",
   "execution_count": 315,
   "metadata": {
    "colab": {},
    "colab_type": "code",
    "id": "Dnbt4GdIVp_v"
   },
   "outputs": [
    {
     "data": {
      "text/plain": [
       "2015"
      ]
     },
     "execution_count": 315,
     "metadata": {},
     "output_type": "execute_result"
    }
   ],
   "source": [
    "#Группируем данные по годам, извлекаем индекс максимального значения колонки revenue и получаем и него год\n",
    "answers['19'] = data.resample('Y', on='release_date').sum()['revenue'].idxmax().year\n",
    "answers['19'] "
   ]
  },
  {
   "cell_type": "markdown",
   "metadata": {
    "colab_type": "text",
    "id": "JAzJh4QAVp_z"
   },
   "source": [
    "# 20. Какой самый прибыльный год для студии Warner Bros?"
   ]
  },
  {
   "cell_type": "code",
   "execution_count": 316,
   "metadata": {
    "colab": {},
    "colab_type": "code",
    "id": "wgVu02DEVp_0"
   },
   "outputs": [
    {
     "data": {
      "text/plain": [
       "2014"
      ]
     },
     "execution_count": 316,
     "metadata": {},
     "output_type": "execute_result"
    }
   ],
   "source": [
    "#Находим фильмы от Warner Bros\n",
    "films_WarnerBros = data[ data['production_companies'].str.join(\"|\").str.contains(\"Warner Bros\") ]\n",
    "\n",
    "#Группируем данные по годам, извлекаем индекс максимального значения колонки profit и получаем и него год\n",
    "answers['20'] = films_WarnerBros.resample('Y', on='release_date').sum()['profit'].idxmax().year\n",
    "answers['20'] "
   ]
  },
  {
   "cell_type": "markdown",
   "metadata": {
    "colab_type": "text",
    "id": "8Im1S2HRVp_4"
   },
   "source": [
    "# 21. В каком месяце за все годы суммарно вышло больше всего фильмов?"
   ]
  },
  {
   "cell_type": "code",
   "execution_count": 317,
   "metadata": {
    "colab": {},
    "colab_type": "code",
    "id": "lev6TH7gVp_4"
   },
   "outputs": [
    {
     "data": {
      "text/plain": [
       "'Сентябрь'"
      ]
     },
     "execution_count": 317,
     "metadata": {},
     "output_type": "execute_result"
    }
   ],
   "source": [
    "#Групируем данные по месяцам, и подсчитывем кол-во фильмов, \n",
    "#из индекса максимального ко-ва фильмов извлекаем название месяца\n",
    "answers['21'] = data.resample('M', on='release_date')['imdb_id'].count().idxmax().month_name(locale='Russian')\n",
    "answers['21']"
   ]
  },
  {
   "cell_type": "markdown",
   "metadata": {
    "colab_type": "text",
    "id": "uAJsZ_NeVp_7"
   },
   "source": [
    "# 22. Сколько суммарно вышло фильмов летом? (за июнь, июль, август)"
   ]
  },
  {
   "cell_type": "code",
   "execution_count": 318,
   "metadata": {
    "colab": {},
    "colab_type": "code",
    "id": "Aa-hEREoVp_8"
   },
   "outputs": [
    {
     "data": {
      "text/plain": [
       "450"
      ]
     },
     "execution_count": 318,
     "metadata": {},
     "output_type": "execute_result"
    }
   ],
   "source": [
    "#Выбираем летние фильмы, и считаем кол-во ункальных imdb\n",
    "answers['22'] = data[ data['release_date'].dt.month.isin([6,7,8])]['imdb_id'].nunique()\n",
    "answers['22']"
   ]
  },
  {
   "cell_type": "markdown",
   "metadata": {
    "colab_type": "text",
    "id": "G94ppOY1VqAA"
   },
   "source": [
    "# 23. Для какого режиссера зима – самое продуктивное время года? "
   ]
  },
  {
   "cell_type": "code",
   "execution_count": 319,
   "metadata": {
    "colab": {},
    "colab_type": "code",
    "id": "RhNTsamuVqAB"
   },
   "outputs": [
    {
     "data": {
      "text/html": [
       "<div>\n",
       "<style scoped>\n",
       "    .dataframe tbody tr th:only-of-type {\n",
       "        vertical-align: middle;\n",
       "    }\n",
       "\n",
       "    .dataframe tbody tr th {\n",
       "        vertical-align: top;\n",
       "    }\n",
       "\n",
       "    .dataframe thead th {\n",
       "        text-align: right;\n",
       "    }\n",
       "</style>\n",
       "<table border=\"1\" class=\"dataframe\">\n",
       "  <thead>\n",
       "    <tr style=\"text-align: right;\">\n",
       "      <th></th>\n",
       "      <th>winter_films</th>\n",
       "    </tr>\n",
       "    <tr>\n",
       "      <th>director</th>\n",
       "      <th></th>\n",
       "    </tr>\n",
       "  </thead>\n",
       "  <tbody>\n",
       "    <tr>\n",
       "      <th>Peter Jackson</th>\n",
       "      <td>7</td>\n",
       "    </tr>\n",
       "    <tr>\n",
       "      <th>Clint Eastwood</th>\n",
       "      <td>6</td>\n",
       "    </tr>\n",
       "    <tr>\n",
       "      <th>Steven Soderbergh</th>\n",
       "      <td>6</td>\n",
       "    </tr>\n",
       "    <tr>\n",
       "      <th>Shawn Levy</th>\n",
       "      <td>4</td>\n",
       "    </tr>\n",
       "    <tr>\n",
       "      <th>Martin Scorsese</th>\n",
       "      <td>4</td>\n",
       "    </tr>\n",
       "  </tbody>\n",
       "</table>\n",
       "</div>"
      ],
      "text/plain": [
       "                   winter_films\n",
       "director                       \n",
       "Peter Jackson                 7\n",
       "Clint Eastwood                6\n",
       "Steven Soderbergh             6\n",
       "Shawn Levy                    4\n",
       "Martin Scorsese               4"
      ]
     },
     "metadata": {},
     "output_type": "display_data"
    },
    {
     "data": {
      "text/plain": [
       "'Peter Jackson'"
      ]
     },
     "execution_count": 319,
     "metadata": {},
     "output_type": "execute_result"
    }
   ],
   "source": [
    "#Создадим датафрейм со списком всех режисеров\n",
    "director_films = pd.DataFrame({\n",
    "    'director': list( set( data['director'].sum() ) ) })\n",
    "\n",
    "#Добавим колонку с количеством зимних фильмов, с разделением по режисеру \n",
    "director_films['winter_films'] = director_films['director'].apply(lambda x: data[ data['director'].str.contains(x,  regex=False, na=False) & data['release_date'].dt.month.isin([12,1,2]) ]['imdb_id'].count() )\n",
    "\n",
    "#Сделаем индексом режисера\n",
    "director_films.set_index(['director'], inplace=True)\n",
    "\n",
    "display( director_films.nlargest(5, ['winter_films']) )\n",
    "\n",
    "#Получим идекс максимального значения в колонке winter_films\n",
    "answers['23'] = director_films['winter_films'].idxmax()\n",
    "answers['23']"
   ]
  },
  {
   "cell_type": "markdown",
   "metadata": {
    "colab_type": "text",
    "id": "RBo0JVjVVqAF"
   },
   "source": [
    "# 24. Какая студия дает самые длинные названия своим фильмам по количеству символов?"
   ]
  },
  {
   "cell_type": "code",
   "execution_count": 320,
   "metadata": {
    "colab": {},
    "colab_type": "code",
    "id": "QRGS8L0iVqAG"
   },
   "outputs": [
    {
     "data": {
      "text/html": [
       "<div>\n",
       "<style scoped>\n",
       "    .dataframe tbody tr th:only-of-type {\n",
       "        vertical-align: middle;\n",
       "    }\n",
       "\n",
       "    .dataframe tbody tr th {\n",
       "        vertical-align: top;\n",
       "    }\n",
       "\n",
       "    .dataframe thead th {\n",
       "        text-align: right;\n",
       "    }\n",
       "</style>\n",
       "<table border=\"1\" class=\"dataframe\">\n",
       "  <thead>\n",
       "    <tr style=\"text-align: right;\">\n",
       "      <th></th>\n",
       "      <th>company</th>\n",
       "      <th>max_title_len</th>\n",
       "    </tr>\n",
       "  </thead>\n",
       "  <tbody>\n",
       "    <tr>\n",
       "      <th>22</th>\n",
       "      <td>Twentieth Century Fox Film Corporation</td>\n",
       "      <td>83</td>\n",
       "    </tr>\n",
       "    <tr>\n",
       "      <th>1566</th>\n",
       "      <td>Four By Two Productions</td>\n",
       "      <td>83</td>\n",
       "    </tr>\n",
       "    <tr>\n",
       "      <th>1025</th>\n",
       "      <td>Walt Disney</td>\n",
       "      <td>62</td>\n",
       "    </tr>\n",
       "    <tr>\n",
       "      <th>1300</th>\n",
       "      <td>Walden Media</td>\n",
       "      <td>62</td>\n",
       "    </tr>\n",
       "    <tr>\n",
       "      <th>95</th>\n",
       "      <td>Jim Henson Company, The</td>\n",
       "      <td>59</td>\n",
       "    </tr>\n",
       "  </tbody>\n",
       "</table>\n",
       "</div>"
      ],
      "text/plain": [
       "                                     company  max_title_len\n",
       "22    Twentieth Century Fox Film Corporation             83\n",
       "1566                 Four By Two Productions             83\n",
       "1025                             Walt Disney             62\n",
       "1300                            Walden Media             62\n",
       "95                   Jim Henson Company, The             59"
      ]
     },
     "metadata": {},
     "output_type": "display_data"
    },
    {
     "data": {
      "text/plain": [
       "['Twentieth Century Fox Film Corporation', 'Four By Two Productions']"
      ]
     },
     "execution_count": 320,
     "metadata": {},
     "output_type": "execute_result"
    }
   ],
   "source": [
    "#Выберем необходимые данные из основной таблицы\n",
    "title_len = data[['production_companies', 'original_title']].copy()\n",
    "title_len['title_len'] = title_len['original_title'].apply(len)\n",
    "\n",
    "#Создадим датафрейм со списком всех компаний\n",
    "company_films = pd.DataFrame({\n",
    "    'company': list( set( data['production_companies'].sum() ) ) })\n",
    "\n",
    "#Добавим колонку с максимальной длиной фильма компании\n",
    "company_films['max_title_len'] = company_films['company'].apply(lambda x: title_len[ title_len['production_companies'].str.contains(x,  regex=False, na=False) ]['title_len'].max() )\n",
    "\n",
    "#Выведем 5 компаний с наибольшей длиной названия фильма\n",
    "display( company_films.nlargest(5, ['max_title_len']) )\n",
    "\n",
    "answers['24'] = company_films[company_films['max_title_len'] == company_films['max_title_len'].max()  ]['company'].tolist()\n",
    "answers['24']"
   ]
  },
  {
   "cell_type": "markdown",
   "metadata": {
    "colab_type": "text",
    "id": "9G0hbvR7VqAK"
   },
   "source": [
    "# 25. Описание фильмов какой студии в среднем самые длинные по количеству слов?"
   ]
  },
  {
   "cell_type": "code",
   "execution_count": 321,
   "metadata": {
    "colab": {},
    "colab_type": "code",
    "id": "Ge2GsLNxVqAK"
   },
   "outputs": [
    {
     "data": {
      "text/html": [
       "<div>\n",
       "<style scoped>\n",
       "    .dataframe tbody tr th:only-of-type {\n",
       "        vertical-align: middle;\n",
       "    }\n",
       "\n",
       "    .dataframe tbody tr th {\n",
       "        vertical-align: top;\n",
       "    }\n",
       "\n",
       "    .dataframe thead th {\n",
       "        text-align: right;\n",
       "    }\n",
       "</style>\n",
       "<table border=\"1\" class=\"dataframe\">\n",
       "  <thead>\n",
       "    <tr style=\"text-align: right;\">\n",
       "      <th></th>\n",
       "      <th>company</th>\n",
       "      <th>overview_word_mean</th>\n",
       "    </tr>\n",
       "  </thead>\n",
       "  <tbody>\n",
       "    <tr>\n",
       "      <th>1422</th>\n",
       "      <td>Midnight Picture Show</td>\n",
       "      <td>175.0</td>\n",
       "    </tr>\n",
       "    <tr>\n",
       "      <th>1448</th>\n",
       "      <td>Room 9 Entertainment</td>\n",
       "      <td>161.0</td>\n",
       "    </tr>\n",
       "    <tr>\n",
       "      <th>348</th>\n",
       "      <td>98 MPH Productions</td>\n",
       "      <td>159.0</td>\n",
       "    </tr>\n",
       "    <tr>\n",
       "      <th>1250</th>\n",
       "      <td>Heineken Branded Entertainment</td>\n",
       "      <td>159.0</td>\n",
       "    </tr>\n",
       "    <tr>\n",
       "      <th>494</th>\n",
       "      <td>Brookwell-McNamara Entertainment</td>\n",
       "      <td>156.0</td>\n",
       "    </tr>\n",
       "  </tbody>\n",
       "</table>\n",
       "</div>"
      ],
      "text/plain": [
       "                               company  overview_word_mean\n",
       "1422             Midnight Picture Show               175.0\n",
       "1448              Room 9 Entertainment               161.0\n",
       "348                 98 MPH Productions               159.0\n",
       "1250    Heineken Branded Entertainment               159.0\n",
       "494   Brookwell-McNamara Entertainment               156.0"
      ]
     },
     "metadata": {},
     "output_type": "display_data"
    },
    {
     "data": {
      "text/plain": [
       "'Midnight Picture Show'"
      ]
     },
     "execution_count": 321,
     "metadata": {},
     "output_type": "execute_result"
    }
   ],
   "source": [
    "#Создадим датафрейм со списком всех компаний\n",
    "company_films = pd.DataFrame({\n",
    "    'company': list( set( data['production_companies'].sum() ) ) })\n",
    "\n",
    "#Добавим колонку со средним кол-вом слов в опиcании фильма компании\n",
    "company_films['overview_word_mean'] = company_films['company'].apply( lambda x: data[ data['production_companies'].str.contains(x,  regex=False, na=False) ]['overview'].str.split().apply(len).mean() )\n",
    "\n",
    "#Выведем 5 компаний с наибольшим количеством слов в описании фильма\n",
    "display( company_films.nlargest(5, ['overview_word_mean']) )\n",
    "\n",
    "#Запишем ответ\n",
    "answers['25'] = company_films.loc[ company_films['overview_word_mean'].idxmax() ]['company']\n",
    "answers['25']"
   ]
  },
  {
   "cell_type": "markdown",
   "metadata": {
    "colab_type": "text",
    "id": "FJ1AFt90VqAP"
   },
   "source": [
    "# 26. Какие фильмы входят в 1 процент лучших по рейтингу? \n",
    "по vote_average"
   ]
  },
  {
   "cell_type": "code",
   "execution_count": 322,
   "metadata": {
    "colab": {},
    "colab_type": "code",
    "id": "8qmJVq4CVqAQ"
   },
   "outputs": [
    {
     "data": {
      "text/plain": [
       "['Inside Out',\n",
       " 'Room',\n",
       " 'Interstellar',\n",
       " 'Guardians of the Galaxy',\n",
       " 'The Imitation Game',\n",
       " 'Gone Girl',\n",
       " 'The Grand Budapest Hotel',\n",
       " 'Inception',\n",
       " 'The Dark Knight',\n",
       " 'The Pianist',\n",
       " 'The Lord of the Rings: The Return of the King',\n",
       " 'The Wolf of Wall Street',\n",
       " '12 Years a Slave',\n",
       " 'Memento']"
      ]
     },
     "execution_count": 322,
     "metadata": {},
     "output_type": "execute_result"
    }
   ],
   "source": [
    "#Выберем фильмы по 99 процентилю\n",
    "average99 = data[ data['vote_average'] > data['vote_average'].quantile(.99)   ][['original_title', 'vote_average']]\n",
    "answers['26'] = average99['original_title'].to_list()\n",
    "answers['26']"
   ]
  },
  {
   "cell_type": "markdown",
   "metadata": {
    "colab_type": "text",
    "id": "MdXsUXbCVqAV"
   },
   "source": [
    "# 27. Какие актеры чаще всего снимаются в одном фильме вместе?\n"
   ]
  },
  {
   "cell_type": "code",
   "execution_count": 323,
   "metadata": {
    "colab_type": "text",
    "id": "4ymnxEVoVqAW"
   },
   "outputs": [
    {
     "name": "stdout",
     "output_type": "stream",
     "text": [
      "('Daniel Radcliffe', 'Rupert Grint') 8 фильмов\n"
     ]
    }
   ],
   "source": [
    "#all_cast = list( set( data['cast'].sum() ) )\n",
    "\n",
    "#Сократим список актеров, т.к. задача на поиск по всему списку актеров содержит 11 597 430 вариантов комбинаций.\n",
    "find_cast = ['Johnny Depp' , 'Helena Bonham Carter',\n",
    "'Ben Stiller' , 'Owen Wilson',\n",
    "'Vin Diesel' , 'Paul Walker',\n",
    "'Adam Sandler' , 'Kevin James',\n",
    "'Daniel Radcliffe' , 'Rupert Grint' ]\n",
    "\n",
    "\n",
    "#Выберим только список актеров фильма, и преобразуем их во множество\n",
    "cast_film_set = data['cast'].apply( set )\n",
    "\n",
    "max_films = -1;\n",
    "\n",
    "#Комбинации из 2 актеров\n",
    "for casts in itertools.combinations(find_cast, 2):\n",
    "    s_cast = set(casts)\n",
    "    #Ищем вхождение множества с комбинацией актеров в список актеров фильма и считаем их кол-во    \n",
    "    film_cnt = cast_film_set.apply(lambda x: s_cast.issubset(x)).sum()\n",
    "    #В max_cast записываем комбинацию актеров с максимальным кол-вом фильмов\n",
    "    if film_cnt > max_films:\n",
    "        max_films = film_cnt\n",
    "        max_cast = casts \n",
    "        \n",
    "print( max_cast , max_films, 'фильмов' )\n",
    "\n",
    "answers[27] = max_cast\n"
   ]
  },
  {
   "cell_type": "markdown",
   "metadata": {
    "colab_type": "text",
    "id": "U0nONFnGVqAX"
   },
   "source": [
    "# Submission"
   ]
  },
  {
   "cell_type": "code",
   "execution_count": 324,
   "metadata": {
    "colab": {},
    "colab_type": "code",
    "id": "IfcaRO9-VqAX",
    "outputId": "0f132912-32bb-4196-c98c-abfbc4ad5a5f"
   },
   "outputs": [
    {
     "data": {
      "text/plain": [
       "{'1': 'Pirates of the Caribbean: On Stranger Tides (tt1298650)',\n",
       " '2': 'Gods and Generals (tt0279111)',\n",
       " '3': 'Winnie the Pooh (tt1449283)',\n",
       " '4': 109.6585494970884,\n",
       " '5': 107.0,\n",
       " '6': 'Avatar (tt0499549)',\n",
       " '7': 'The Lone Ranger (tt1210819)',\n",
       " '8': 1478,\n",
       " '9': 'The Dark Knight (tt0468569)',\n",
       " '10': 'The Lone Ranger (tt1210819)',\n",
       " '11': 'Drama',\n",
       " '12': 'Drama',\n",
       " '13': 'Peter Jackson',\n",
       " '14': 'Robert Rodriguez',\n",
       " '15': 'Chris Hemsworth',\n",
       " '16': 'Matt Damon',\n",
       " '17': 'Action',\n",
       " '18': 'K-19: The Widowmaker (tt0267626)',\n",
       " '19': 2015,\n",
       " '20': 2014,\n",
       " '21': 'Сентябрь',\n",
       " '22': 450,\n",
       " '23': 'Peter Jackson',\n",
       " '24': ['Twentieth Century Fox Film Corporation', 'Four By Two Productions'],\n",
       " '25': 'Midnight Picture Show',\n",
       " '26': ['Inside Out',\n",
       "  'Room',\n",
       "  'Interstellar',\n",
       "  'Guardians of the Galaxy',\n",
       "  'The Imitation Game',\n",
       "  'Gone Girl',\n",
       "  'The Grand Budapest Hotel',\n",
       "  'Inception',\n",
       "  'The Dark Knight',\n",
       "  'The Pianist',\n",
       "  'The Lord of the Rings: The Return of the King',\n",
       "  'The Wolf of Wall Street',\n",
       "  '12 Years a Slave',\n",
       "  'Memento'],\n",
       " 27: ('Daniel Radcliffe', 'Rupert Grint')}"
      ]
     },
     "execution_count": 324,
     "metadata": {},
     "output_type": "execute_result"
    }
   ],
   "source": [
    "# в конце можно посмотреть свои ответы к каждому вопросу\n",
    "answers"
   ]
  },
  {
   "cell_type": "code",
   "execution_count": 325,
   "metadata": {
    "colab": {},
    "colab_type": "code",
    "id": "SiRmHPl8VqAd"
   },
   "outputs": [
    {
     "data": {
      "text/plain": [
       "27"
      ]
     },
     "execution_count": 325,
     "metadata": {},
     "output_type": "execute_result"
    }
   ],
   "source": [
    "# и убедиться что ни чего не пропустил)\n",
    "len(answers)"
   ]
  },
  {
   "cell_type": "code",
   "execution_count": null,
   "metadata": {
    "colab": {},
    "colab_type": "code",
    "id": "uCfuTkRbVqAg"
   },
   "outputs": [],
   "source": []
  },
  {
   "cell_type": "code",
   "execution_count": null,
   "metadata": {
    "colab": {},
    "colab_type": "code",
    "id": "Vwx3NrkSVqAl"
   },
   "outputs": [],
   "source": []
  }
 ],
 "metadata": {
  "colab": {
   "name": "Copy of [SF-DST] Movies IMBD v4.1 TEMPLATE.ipynb",
   "provenance": []
  },
  "kernelspec": {
   "display_name": "Python 3",
   "language": "python",
   "name": "python3"
  },
  "language_info": {
   "codemirror_mode": {
    "name": "ipython",
    "version": 3
   },
   "file_extension": ".py",
   "mimetype": "text/x-python",
   "name": "python",
   "nbconvert_exporter": "python",
   "pygments_lexer": "ipython3",
   "version": "3.8.3"
  }
 },
 "nbformat": 4,
 "nbformat_minor": 1
}
